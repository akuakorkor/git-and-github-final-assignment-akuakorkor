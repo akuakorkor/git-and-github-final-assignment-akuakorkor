{
 "cells": [
  {
   "cell_type": "markdown",
   "metadata": {},
   "source": [
    "# Case Study - Titanic\n"
   ]
  },
  {
   "cell_type": "markdown",
   "metadata": {},
   "source": [
    "## Table of Contents\n",
    "\n",
    "\n",
    "[**Step 1: Business Understanding**](#Step-1:-Business-Understanding)\n",
    "\n",
    "[**Step 2: Data Understanding**](#Step-2:-Data-Understanding)\n",
    "\n",
    "- [**Load Data**](#Load-Data)\n",
    "- [**Check Data Quality**](#Check-Data-Quality)\n",
    "- [**Exploratory Data Analysis-EDA**](#Exploratory-Data-Analysis---EDA)\n",
    " "
   ]
  },
  {
   "cell_type": "markdown",
   "metadata": {},
   "source": [
    "[Back to Top](#Table-of-Contents)\n",
    "\n",
    "## Step 1: Business Understanding\n",
    "This initial phase focuses on understanding the project objectives and requirements from a business perspective, and then converting this knowledge into a data mining problem definition, and a preliminary plan designed to achieve the objectives.\n",
    "#### Titanic Story\n",
    "The sinking of the RMS Titanic is one of the most infamous shipwrecks in history.  On April 15, 1912, during her maiden voyage, the Titanic sank after colliding with an iceberg, killing 1502 out of 2224 passengers and crew. This sensational tragedy shocked the international community and led to better safety regulations for ships.\n",
    "\n",
    "One of the reasons that the shipwreck led to such loss of life was that there were not enough lifeboats for the passengers and crew. Although there was some element of luck involved in surviving the sinking, some groups of people were more likely to survive than others, such as women, children, and the upper-class passengers.\n",
    "\n",
    "#### Objective\n",
    "In this challenge, we will complete the analysis of what sorts of people were likely to survive. \n",
    "\n",
    "In addition, we will build a regression model to predict ticket price(Fare).\n",
    "\n"
   ]
  },
  {
   "cell_type": "markdown",
   "metadata": {},
   "source": [
    "[Back to Top](#Table-of-Contents)\n",
    "\n",
    "## Step 2: Data Understanding\n",
    "The data understanding phase starts with an initial data collection and proceeds with activities in order to get familiar with the data, to identify data quality problems, to discover first insights into the data, or to detect interesting subsets to form hypotheses for hidden information. This step is often mixed with the next step, Data Preparation."
   ]
  },
  {
   "cell_type": "markdown",
   "metadata": {},
   "source": [
    "### Data Dictionary\n",
    "The data is in a csv file titanic.csv. \n",
    "\n",
    "| Variable | Definition | Key |\n",
    "| --- | --- | --- |\n",
    "| survival | Survival | 0 = No, 1 = Yes |\n",
    "| pclass | Ticket class\t| 1 = 1st, 2 = 2nd, 3 = 3rd |\n",
    "| sex | Sex | male/female |\t\n",
    "| Age | Age | in years |\n",
    "| sibsp | # of siblings / spouses aboard the Titanic | |\n",
    "| parch | # of parents / children aboard the Titanic | |\n",
    "| ticket | Ticket number | |\n",
    "| fare | Passenger fare | |\n",
    "| cabin | Cabin number | |\n",
    "| embarked | Port of Embarkation | C = Cherbourg, Q = Queenstown, S = Southampton |\n",
    "\n",
    "**Variable Notes**\n",
    "- pclass: A proxy for socio-economic status (SES)\n",
    " - 1st = Upper\n",
    " - 2nd = Middle\n",
    " - 3rd = Lower\n",
    "\n",
    "- age: Age is fractional if less than 1. If the age is estimated, it is in the form of xx.5\n",
    "\n",
    "- sibsp: The dataset defines family relations in this way...\n",
    "- Sibling = brother, sister, stepbrother, stepsister\n",
    "- Spouse = husband, wife (mistresses and fiancés were ignored)\n",
    "\n",
    "- parch: The dataset defines family relations in this way...\n",
    " - Parent = mother, father\n",
    " - Child = daughter, son, stepdaughter, stepson\n",
    " - Some children travelled only with a nanny, therefore parch=0 for them."
   ]
  },
  {
   "cell_type": "markdown",
   "metadata": {},
   "source": [
    "### Load Data\n",
    "\n",
    "This dataset is in titanic-231005-181053.csv. Make sure the file is in the current folder. Please download the file from [here](https://github.com/data-lessons/python-business/tree/gh-pages/data) if you haven't done so yet."
   ]
  },
  {
   "cell_type": "code",
   "execution_count": 1,
   "metadata": {},
   "outputs": [],
   "source": [
    "# Import the relevant libraries\n",
    "import pandas as pd\n",
    "import numpy as np\n",
    "import matplotlib.pyplot as plt\n",
    "import seaborn as sns\n",
    "import warnings\n",
    "\n",
    "# Suppressing all warnings to avoid cluttering the output\n",
    "warnings.filterwarnings(\"ignore\")\n",
    "\n",
    "# Configuring Matplotlib to display plots inline within the Jupyter Notebook or JupyterLab environment\n",
    "%matplotlib inline"
   ]
  },
  {
   "cell_type": "code",
   "execution_count": 2,
   "metadata": {},
   "outputs": [
    {
     "name": "stdout",
     "output_type": "stream",
     "text": [
      "\n"
     ]
    },
    {
     "data": {
      "text/html": [
       "<div>\n",
       "<style scoped>\n",
       "    .dataframe tbody tr th:only-of-type {\n",
       "        vertical-align: middle;\n",
       "    }\n",
       "\n",
       "    .dataframe tbody tr th {\n",
       "        vertical-align: top;\n",
       "    }\n",
       "\n",
       "    .dataframe thead th {\n",
       "        text-align: right;\n",
       "    }\n",
       "</style>\n",
       "<table border=\"1\" class=\"dataframe\">\n",
       "  <thead>\n",
       "    <tr style=\"text-align: right;\">\n",
       "      <th></th>\n",
       "      <th>PassengerId</th>\n",
       "      <th>Survived</th>\n",
       "      <th>Pclass</th>\n",
       "      <th>Name</th>\n",
       "      <th>Sex</th>\n",
       "      <th>Age</th>\n",
       "      <th>SibSp</th>\n",
       "      <th>Parch</th>\n",
       "      <th>Ticket</th>\n",
       "      <th>Fare</th>\n",
       "      <th>Cabin</th>\n",
       "      <th>Embarked</th>\n",
       "    </tr>\n",
       "  </thead>\n",
       "  <tbody>\n",
       "    <tr>\n",
       "      <th>0</th>\n",
       "      <td>1</td>\n",
       "      <td>0</td>\n",
       "      <td>3</td>\n",
       "      <td>Braund, Mr. Owen Harris</td>\n",
       "      <td>male</td>\n",
       "      <td>22.0</td>\n",
       "      <td>1</td>\n",
       "      <td>0</td>\n",
       "      <td>A/5 21171</td>\n",
       "      <td>$7.25</td>\n",
       "      <td>NaN</td>\n",
       "      <td>S</td>\n",
       "    </tr>\n",
       "    <tr>\n",
       "      <th>1</th>\n",
       "      <td>2</td>\n",
       "      <td>1</td>\n",
       "      <td>1</td>\n",
       "      <td>Cumings, Mrs. John Bradley (Florence Briggs Th...</td>\n",
       "      <td>female</td>\n",
       "      <td>38.0</td>\n",
       "      <td>1</td>\n",
       "      <td>0</td>\n",
       "      <td>PC 17599</td>\n",
       "      <td>$71.2833</td>\n",
       "      <td>C85</td>\n",
       "      <td>C</td>\n",
       "    </tr>\n",
       "    <tr>\n",
       "      <th>2</th>\n",
       "      <td>3</td>\n",
       "      <td>1</td>\n",
       "      <td>3</td>\n",
       "      <td>Heikkinen, Miss. Laina</td>\n",
       "      <td>female</td>\n",
       "      <td>26.0</td>\n",
       "      <td>0</td>\n",
       "      <td>0</td>\n",
       "      <td>STON/O2. 3101282</td>\n",
       "      <td>$7.925</td>\n",
       "      <td>NaN</td>\n",
       "      <td>S</td>\n",
       "    </tr>\n",
       "    <tr>\n",
       "      <th>3</th>\n",
       "      <td>4</td>\n",
       "      <td>1</td>\n",
       "      <td>1</td>\n",
       "      <td>Futrelle, Mrs. Jacques Heath (Lily May Peel)</td>\n",
       "      <td>female</td>\n",
       "      <td>35.0</td>\n",
       "      <td>1</td>\n",
       "      <td>0</td>\n",
       "      <td>113803</td>\n",
       "      <td>$53.1</td>\n",
       "      <td>C123</td>\n",
       "      <td>S</td>\n",
       "    </tr>\n",
       "    <tr>\n",
       "      <th>4</th>\n",
       "      <td>5</td>\n",
       "      <td>0</td>\n",
       "      <td>3</td>\n",
       "      <td>Allen, Mr. William Henry</td>\n",
       "      <td>male</td>\n",
       "      <td>35.0</td>\n",
       "      <td>0</td>\n",
       "      <td>0</td>\n",
       "      <td>373450</td>\n",
       "      <td>$8.05</td>\n",
       "      <td>NaN</td>\n",
       "      <td>S</td>\n",
       "    </tr>\n",
       "  </tbody>\n",
       "</table>\n",
       "</div>"
      ],
      "text/plain": [
       "   PassengerId  Survived  Pclass  \\\n",
       "0            1         0       3   \n",
       "1            2         1       1   \n",
       "2            3         1       3   \n",
       "3            4         1       1   \n",
       "4            5         0       3   \n",
       "\n",
       "                                                Name     Sex   Age  SibSp  \\\n",
       "0                            Braund, Mr. Owen Harris    male  22.0      1   \n",
       "1  Cumings, Mrs. John Bradley (Florence Briggs Th...  female  38.0      1   \n",
       "2                             Heikkinen, Miss. Laina  female  26.0      0   \n",
       "3       Futrelle, Mrs. Jacques Heath (Lily May Peel)  female  35.0      1   \n",
       "4                           Allen, Mr. William Henry    male  35.0      0   \n",
       "\n",
       "   Parch            Ticket      Fare Cabin Embarked  \n",
       "0      0         A/5 21171     $7.25   NaN        S  \n",
       "1      0          PC 17599  $71.2833   C85        C  \n",
       "2      0  STON/O2. 3101282    $7.925   NaN        S  \n",
       "3      0            113803     $53.1  C123        S  \n",
       "4      0            373450     $8.05   NaN        S  "
      ]
     },
     "execution_count": 2,
     "metadata": {},
     "output_type": "execute_result"
    }
   ],
   "source": [
    "# Read the Titanic dataset from a CSV file \n",
    "df_titanic = pd.read_csv(\"titanic-231005-181053.csv\")\n",
    "\n",
    "# Display the first few rows of the DataFrame\n",
    "print()\n",
    "df_titanic.head()"
   ]
  },
  {
   "cell_type": "markdown",
   "metadata": {},
   "source": [
    "### Check Data Quality\n",
    "Check data quality. Most common check is to check missing values. We can do some basic data cleaning like cleaning up currency field.\n",
    "- Check null values\n",
    "- Currency field need to be converted to float, remove '$' or ',', sometimes negative value is enclosed in ()\n"
   ]
  },
  {
   "cell_type": "markdown",
   "metadata": {},
   "source": [
    "##### Task 1: Check out Basic Dataframe Info\n",
    "\n",
    "Hint: info() function.\n",
    "\n",
    "Discuss missing values in the dataframe."
   ]
  },
  {
   "cell_type": "code",
   "execution_count": 3,
   "metadata": {},
   "outputs": [
    {
     "name": "stdout",
     "output_type": "stream",
     "text": [
      "\n",
      "<class 'pandas.core.frame.DataFrame'>\n",
      "RangeIndex: 891 entries, 0 to 890\n",
      "Data columns (total 12 columns):\n",
      " #   Column       Non-Null Count  Dtype  \n",
      "---  ------       --------------  -----  \n",
      " 0   PassengerId  891 non-null    int64  \n",
      " 1   Survived     891 non-null    int64  \n",
      " 2   Pclass       891 non-null    int64  \n",
      " 3   Name         891 non-null    object \n",
      " 4   Sex          891 non-null    object \n",
      " 5   Age          714 non-null    float64\n",
      " 6   SibSp        891 non-null    int64  \n",
      " 7   Parch        891 non-null    int64  \n",
      " 8   Ticket       891 non-null    object \n",
      " 9   Fare         891 non-null    object \n",
      " 10  Cabin        204 non-null    object \n",
      " 11  Embarked     889 non-null    object \n",
      "dtypes: float64(1), int64(5), object(6)\n",
      "memory usage: 363.0 KB\n",
      "\n"
     ]
    }
   ],
   "source": [
    "# Display verbose summary information about the DataFrame\n",
    "print()\n",
    "df_titanic.info(memory_usage = \"deep\")\n",
    "print()"
   ]
  },
  {
   "cell_type": "markdown",
   "metadata": {},
   "source": [
    "##### Task 2: Clean up Fare, Convert to Float\n",
    "Strip \"$\" from Fare, convert datatype to float."
   ]
  },
  {
   "cell_type": "code",
   "execution_count": 4,
   "metadata": {
    "scrolled": true
   },
   "outputs": [
    {
     "name": "stdout",
     "output_type": "stream",
     "text": [
      "\n",
      "<class 'pandas.core.frame.DataFrame'>\n",
      "RangeIndex: 891 entries, 0 to 890\n",
      "Data columns (total 12 columns):\n",
      " #   Column       Non-Null Count  Dtype  \n",
      "---  ------       --------------  -----  \n",
      " 0   PassengerId  891 non-null    int64  \n",
      " 1   Survived     891 non-null    int64  \n",
      " 2   Pclass       891 non-null    int64  \n",
      " 3   Name         891 non-null    object \n",
      " 4   Sex          891 non-null    object \n",
      " 5   Age          714 non-null    float64\n",
      " 6   SibSp        891 non-null    int64  \n",
      " 7   Parch        891 non-null    int64  \n",
      " 8   Ticket       891 non-null    object \n",
      " 9   Fare         891 non-null    float64\n",
      " 10  Cabin        204 non-null    object \n",
      " 11  Embarked     889 non-null    object \n",
      "dtypes: float64(2), int64(5), object(5)\n",
      "memory usage: 315.0 KB\n",
      "\n"
     ]
    },
    {
     "data": {
      "text/html": [
       "<div>\n",
       "<style scoped>\n",
       "    .dataframe tbody tr th:only-of-type {\n",
       "        vertical-align: middle;\n",
       "    }\n",
       "\n",
       "    .dataframe tbody tr th {\n",
       "        vertical-align: top;\n",
       "    }\n",
       "\n",
       "    .dataframe thead th {\n",
       "        text-align: right;\n",
       "    }\n",
       "</style>\n",
       "<table border=\"1\" class=\"dataframe\">\n",
       "  <thead>\n",
       "    <tr style=\"text-align: right;\">\n",
       "      <th></th>\n",
       "      <th>PassengerId</th>\n",
       "      <th>Survived</th>\n",
       "      <th>Pclass</th>\n",
       "      <th>Name</th>\n",
       "      <th>Sex</th>\n",
       "      <th>Age</th>\n",
       "      <th>SibSp</th>\n",
       "      <th>Parch</th>\n",
       "      <th>Ticket</th>\n",
       "      <th>Fare</th>\n",
       "      <th>Cabin</th>\n",
       "      <th>Embarked</th>\n",
       "    </tr>\n",
       "  </thead>\n",
       "  <tbody>\n",
       "    <tr>\n",
       "      <th>0</th>\n",
       "      <td>1</td>\n",
       "      <td>0</td>\n",
       "      <td>3</td>\n",
       "      <td>Braund, Mr. Owen Harris</td>\n",
       "      <td>male</td>\n",
       "      <td>22.0</td>\n",
       "      <td>1</td>\n",
       "      <td>0</td>\n",
       "      <td>A/5 21171</td>\n",
       "      <td>7.2500</td>\n",
       "      <td>NaN</td>\n",
       "      <td>S</td>\n",
       "    </tr>\n",
       "    <tr>\n",
       "      <th>1</th>\n",
       "      <td>2</td>\n",
       "      <td>1</td>\n",
       "      <td>1</td>\n",
       "      <td>Cumings, Mrs. John Bradley (Florence Briggs Th...</td>\n",
       "      <td>female</td>\n",
       "      <td>38.0</td>\n",
       "      <td>1</td>\n",
       "      <td>0</td>\n",
       "      <td>PC 17599</td>\n",
       "      <td>71.2833</td>\n",
       "      <td>C85</td>\n",
       "      <td>C</td>\n",
       "    </tr>\n",
       "    <tr>\n",
       "      <th>2</th>\n",
       "      <td>3</td>\n",
       "      <td>1</td>\n",
       "      <td>3</td>\n",
       "      <td>Heikkinen, Miss. Laina</td>\n",
       "      <td>female</td>\n",
       "      <td>26.0</td>\n",
       "      <td>0</td>\n",
       "      <td>0</td>\n",
       "      <td>STON/O2. 3101282</td>\n",
       "      <td>7.9250</td>\n",
       "      <td>NaN</td>\n",
       "      <td>S</td>\n",
       "    </tr>\n",
       "    <tr>\n",
       "      <th>3</th>\n",
       "      <td>4</td>\n",
       "      <td>1</td>\n",
       "      <td>1</td>\n",
       "      <td>Futrelle, Mrs. Jacques Heath (Lily May Peel)</td>\n",
       "      <td>female</td>\n",
       "      <td>35.0</td>\n",
       "      <td>1</td>\n",
       "      <td>0</td>\n",
       "      <td>113803</td>\n",
       "      <td>53.1000</td>\n",
       "      <td>C123</td>\n",
       "      <td>S</td>\n",
       "    </tr>\n",
       "    <tr>\n",
       "      <th>4</th>\n",
       "      <td>5</td>\n",
       "      <td>0</td>\n",
       "      <td>3</td>\n",
       "      <td>Allen, Mr. William Henry</td>\n",
       "      <td>male</td>\n",
       "      <td>35.0</td>\n",
       "      <td>0</td>\n",
       "      <td>0</td>\n",
       "      <td>373450</td>\n",
       "      <td>8.0500</td>\n",
       "      <td>NaN</td>\n",
       "      <td>S</td>\n",
       "    </tr>\n",
       "  </tbody>\n",
       "</table>\n",
       "</div>"
      ],
      "text/plain": [
       "   PassengerId  Survived  Pclass  \\\n",
       "0            1         0       3   \n",
       "1            2         1       1   \n",
       "2            3         1       3   \n",
       "3            4         1       1   \n",
       "4            5         0       3   \n",
       "\n",
       "                                                Name     Sex   Age  SibSp  \\\n",
       "0                            Braund, Mr. Owen Harris    male  22.0      1   \n",
       "1  Cumings, Mrs. John Bradley (Florence Briggs Th...  female  38.0      1   \n",
       "2                             Heikkinen, Miss. Laina  female  26.0      0   \n",
       "3       Futrelle, Mrs. Jacques Heath (Lily May Peel)  female  35.0      1   \n",
       "4                           Allen, Mr. William Henry    male  35.0      0   \n",
       "\n",
       "   Parch            Ticket     Fare Cabin Embarked  \n",
       "0      0         A/5 21171   7.2500   NaN        S  \n",
       "1      0          PC 17599  71.2833   C85        C  \n",
       "2      0  STON/O2. 3101282   7.9250   NaN        S  \n",
       "3      0            113803  53.1000  C123        S  \n",
       "4      0            373450   8.0500   NaN        S  "
      ]
     },
     "execution_count": 4,
     "metadata": {},
     "output_type": "execute_result"
    }
   ],
   "source": [
    "# Removing the dollar sign from the \"Fare\" column and then converting the result to float data type.\n",
    "df_titanic[\"Fare\"] = df_titanic[\"Fare\"].str.replace('$', \"\").astype(float)\n",
    "\n",
    "# Display verbose summary information about the modified DataFrame\n",
    "print()\n",
    "df_titanic.info(memory_usage = \"deep\")\n",
    "\n",
    "# # Display the first few rows of the modified DataFrame\n",
    "print()\n",
    "df_titanic.head()"
   ]
  },
  {
   "cell_type": "markdown",
   "metadata": {},
   "source": [
    "##### Task 3: Check out statistics of Numeric Columns\n",
    "\n",
    "Hint: describe() function.\n",
    "\n",
    "Discuss:\n",
    "- Age, SibSp, Parch, Fare statistics\n",
    "- What does mean Survived mean?"
   ]
  },
  {
   "cell_type": "code",
   "execution_count": 5,
   "metadata": {
    "scrolled": true
   },
   "outputs": [
    {
     "name": "stdout",
     "output_type": "stream",
     "text": [
      "\n"
     ]
    },
    {
     "data": {
      "text/html": [
       "<div>\n",
       "<style scoped>\n",
       "    .dataframe tbody tr th:only-of-type {\n",
       "        vertical-align: middle;\n",
       "    }\n",
       "\n",
       "    .dataframe tbody tr th {\n",
       "        vertical-align: top;\n",
       "    }\n",
       "\n",
       "    .dataframe thead th {\n",
       "        text-align: right;\n",
       "    }\n",
       "</style>\n",
       "<table border=\"1\" class=\"dataframe\">\n",
       "  <thead>\n",
       "    <tr style=\"text-align: right;\">\n",
       "      <th></th>\n",
       "      <th>count</th>\n",
       "      <th>mean</th>\n",
       "      <th>std</th>\n",
       "      <th>min</th>\n",
       "      <th>25%</th>\n",
       "      <th>50%</th>\n",
       "      <th>75%</th>\n",
       "      <th>max</th>\n",
       "    </tr>\n",
       "  </thead>\n",
       "  <tbody>\n",
       "    <tr>\n",
       "      <th>PassengerId</th>\n",
       "      <td>891.0</td>\n",
       "      <td>446.000000</td>\n",
       "      <td>257.353842</td>\n",
       "      <td>1.00</td>\n",
       "      <td>223.5000</td>\n",
       "      <td>446.0000</td>\n",
       "      <td>668.5</td>\n",
       "      <td>891.0000</td>\n",
       "    </tr>\n",
       "    <tr>\n",
       "      <th>Survived</th>\n",
       "      <td>891.0</td>\n",
       "      <td>0.383838</td>\n",
       "      <td>0.486592</td>\n",
       "      <td>0.00</td>\n",
       "      <td>0.0000</td>\n",
       "      <td>0.0000</td>\n",
       "      <td>1.0</td>\n",
       "      <td>1.0000</td>\n",
       "    </tr>\n",
       "    <tr>\n",
       "      <th>Pclass</th>\n",
       "      <td>891.0</td>\n",
       "      <td>2.308642</td>\n",
       "      <td>0.836071</td>\n",
       "      <td>1.00</td>\n",
       "      <td>2.0000</td>\n",
       "      <td>3.0000</td>\n",
       "      <td>3.0</td>\n",
       "      <td>3.0000</td>\n",
       "    </tr>\n",
       "    <tr>\n",
       "      <th>Age</th>\n",
       "      <td>714.0</td>\n",
       "      <td>29.699118</td>\n",
       "      <td>14.526497</td>\n",
       "      <td>0.42</td>\n",
       "      <td>20.1250</td>\n",
       "      <td>28.0000</td>\n",
       "      <td>38.0</td>\n",
       "      <td>80.0000</td>\n",
       "    </tr>\n",
       "    <tr>\n",
       "      <th>SibSp</th>\n",
       "      <td>891.0</td>\n",
       "      <td>0.523008</td>\n",
       "      <td>1.102743</td>\n",
       "      <td>0.00</td>\n",
       "      <td>0.0000</td>\n",
       "      <td>0.0000</td>\n",
       "      <td>1.0</td>\n",
       "      <td>8.0000</td>\n",
       "    </tr>\n",
       "    <tr>\n",
       "      <th>Parch</th>\n",
       "      <td>891.0</td>\n",
       "      <td>0.381594</td>\n",
       "      <td>0.806057</td>\n",
       "      <td>0.00</td>\n",
       "      <td>0.0000</td>\n",
       "      <td>0.0000</td>\n",
       "      <td>0.0</td>\n",
       "      <td>6.0000</td>\n",
       "    </tr>\n",
       "    <tr>\n",
       "      <th>Fare</th>\n",
       "      <td>891.0</td>\n",
       "      <td>32.204208</td>\n",
       "      <td>49.693429</td>\n",
       "      <td>0.00</td>\n",
       "      <td>7.9104</td>\n",
       "      <td>14.4542</td>\n",
       "      <td>31.0</td>\n",
       "      <td>512.3292</td>\n",
       "    </tr>\n",
       "  </tbody>\n",
       "</table>\n",
       "</div>"
      ],
      "text/plain": [
       "             count        mean         std   min       25%       50%    75%  \\\n",
       "PassengerId  891.0  446.000000  257.353842  1.00  223.5000  446.0000  668.5   \n",
       "Survived     891.0    0.383838    0.486592  0.00    0.0000    0.0000    1.0   \n",
       "Pclass       891.0    2.308642    0.836071  1.00    2.0000    3.0000    3.0   \n",
       "Age          714.0   29.699118   14.526497  0.42   20.1250   28.0000   38.0   \n",
       "SibSp        891.0    0.523008    1.102743  0.00    0.0000    0.0000    1.0   \n",
       "Parch        891.0    0.381594    0.806057  0.00    0.0000    0.0000    0.0   \n",
       "Fare         891.0   32.204208   49.693429  0.00    7.9104   14.4542   31.0   \n",
       "\n",
       "                  max  \n",
       "PassengerId  891.0000  \n",
       "Survived       1.0000  \n",
       "Pclass         3.0000  \n",
       "Age           80.0000  \n",
       "SibSp          8.0000  \n",
       "Parch          6.0000  \n",
       "Fare         512.3292  "
      ]
     },
     "execution_count": 5,
     "metadata": {},
     "output_type": "execute_result"
    }
   ],
   "source": [
    "# Display the transpose of the descriptive statistics summary of the DataFrame\n",
    "print()\n",
    "df_titanic.describe().T"
   ]
  },
  {
   "cell_type": "raw",
   "metadata": {},
   "source": [
    "The demographic composition of passengers aboard the Titanic reveals a predominantly youthful cohort, with a notable concentration of individuals below the age of 38. However, it is important to acknowledge that age data for some passengers is missing. Variability in age is evident, spanning from an infant less than a year old to a senior citizen aged 80, reflecting a diverse age spectrum among passengers. Furthermore, the presence of both siblings and spouses on board indicates that many passengers traveled with family members, albeit in varying numbers. Similarly, the presence of parents and children aboard underscores the familial composition of Titanic passengers, although again, there is variability in family size. Regarding fares, the wide range—from nominal fees to exorbitant prices—reflects the diverse socioeconomic backgrounds of passengers, with potential stowaways or crew members represented among those paying minimal or no fare. Lastly, the survival rate of approximately 38.4% underscores the tragic outcome of the Titanic disaster, with a significant proportion of passengers succumbing to the events of that fateful voyage."
   ]
  },
  {
   "cell_type": "markdown",
   "metadata": {},
   "source": [
    "### Exploratory Data Analysis - EDA\n",
    "EDA is an approach to analyzing data sets to summarize their main characteristics, often with visual methods.\n",
    "\n",
    "#### Types Of Features\n",
    "##### Categorical Features:\n",
    "A categorical variable is one that has two or more categories and each value in that feature can be categorised by them.For example, gender is a categorical variable having two categories (male and female). Now we cannot sort or give any ordering to such variables. They are also known as Nominal Variables.\n",
    "\n",
    "Categorical Features in the dataset: Sex,Embarked.\n",
    "\n",
    "##### Continous Feature:\n",
    "A feature is said to be continous if it can take values between any two points or between the minimum or maximum values in the features column.\n",
    "\n",
    "Continous Features in the dataset: Fare"
   ]
  },
  {
   "cell_type": "markdown",
   "metadata": {},
   "source": [
    "### Categorical Features\n",
    "We will analyse Survived as univariant. Relationship between Sex and Survival, Embarked and Survivval.\n",
    "\n",
    "#### How many survived\n",
    "Bar chart on Survived column. There are multiple ways to do the bar chart. We will demonstrate 2 ways here, seaborn countplot and pandas series bar."
   ]
  },
  {
   "cell_type": "markdown",
   "metadata": {},
   "source": [
    "##### Task4: Plot bar chart for Perished vs. Survived\n",
    "Plot bar chart for Survived column. Survived=0 means perished, Survived=1 means Survived."
   ]
  },
  {
   "cell_type": "code",
   "execution_count": 6,
   "metadata": {},
   "outputs": [
    {
     "name": "stdout",
     "output_type": "stream",
     "text": [
      "\n",
      "*********  A BARPLOT TO COMPARE THE NUMBER OF PASSENGERS THAT PERISHED AGAINST PASSENGERS THAT SURVIVED  *********\n",
      "\n"
     ]
    },
    {
     "data": {
      "image/png": "[encoded data removed]",
      "text/plain": [
       "<Figure size 1000x600 with 1 Axes>"
      ]
     },
     "metadata": {},
     "output_type": "display_data"
    },
    {
     "name": "stdout",
     "output_type": "stream",
     "text": [
      "\n",
      "Observation:\n",
      "\n",
      "         The bar plot indicates a significant proportion of passengers on the Titanic perished.\n",
      "      \n",
      "\n"
     ]
    }
   ],
   "source": [
    "# Dictionary mapping survival status code to labels\n",
    "sur_inact_map = {0: \"Perished\", 1: \"Survived\"}\n",
    "\n",
    "# Initialize a new column for survival status label with NaN values\n",
    "df_titanic[\"Survived_label\"] = np.nan\n",
    "\n",
    "# Fill NaN values in the \"Survived_label\" column based on the \"Survived\" column using the mapping dictionary\n",
    "df_titanic[\"Survived_label\"] = df_titanic[\"Survived_label\"].fillna(df_titanic[\"Survived\"].map(sur_inact_map))\n",
    "\n",
    "# Group the data by survival status label and count the number of passengers in each group\n",
    "sur_per = df_titanic.groupby(\"Survived_label\")[\"PassengerId\"].count().reset_index()\n",
    "\n",
    "# Set the style of the plot to a dark background\n",
    "plt.style.use(\"dark_background\")\n",
    "\n",
    "# Define the dimensions of the plot\n",
    "plt.figure(figsize=(10, 6))\n",
    "\n",
    "# Create a bar plot to compare the number of passengers that perished against passengers that survived\n",
    "sns.barplot(data=sur_per, x=\"Survived_label\", y=\"PassengerId\", color=\"c\")\n",
    "\n",
    "# Set labels for the x-axis and y-axis\n",
    "plt.xlabel(\"Survival Status\")\n",
    "plt.ylabel(\"Number of Passengers\")\n",
    "\n",
    "# Set the title of the plot\n",
    "plt.title(\"Perished Passengers versus Survived Passengers\")\n",
    "\n",
    "# Annotate each bar with its corresponding value\n",
    "for index, row in sur_per.iterrows():\n",
    "    # Place the annotation on top of each bar, aligned to the center\n",
    "    plt.text(index, row[\"PassengerId\"], str(row[\"PassengerId\"]), ha=\"center\", va=\"bottom\")\n",
    "\n",
    "# Print a message indicating the purpose of the plot\n",
    "print()\n",
    "print(\"*********  A BARPLOT TO COMPARE THE NUMBER OF PASSENGERS THAT PERISHED AGAINST PASSENGERS THAT SURVIVED  *********\")\n",
    "print()\n",
    "\n",
    "# Display the plot\n",
    "plt.show()\n",
    "\n",
    "# Print a message indicating the observation made from analyzing the bar plot\n",
    "print()\n",
    "print(\"Observation:\")\n",
    "print(\"\"\"\n",
    "         The bar plot indicates a significant proportion of passengers on the Titanic perished.\n",
    "      \"\"\")\n",
    "print()"
   ]
  },
  {
   "cell_type": "markdown",
   "metadata": {},
   "source": [
    "#### Relationship between Sex and Survival\n",
    "We may use aggregation function or plot.\n",
    "\n",
    "Next 2 cells demonstate aggregate function.\n",
    "\n",
    "The following cell demonstrates bar plot and countplot.\n"
   ]
  },
  {
   "cell_type": "markdown",
   "metadata": {},
   "source": [
    "##### Task 5: Plot Bar Chart on Number of Male and Female Passengers"
   ]
  },
  {
   "cell_type": "code",
   "execution_count": 7,
   "metadata": {},
   "outputs": [
    {
     "name": "stdout",
     "output_type": "stream",
     "text": [
      "\n",
      "**********  A BARPLOT TO COMPARE THE NUMBER OF MALE PASSENGERS TO FEMALE PASSENGERS  **********\n",
      "\n"
     ]
    },
    {
     "data": {
      "image/png": "[encoded data removed]",
      "text/plain": [
       "<Figure size 1000x600 with 1 Axes>"
      ]
     },
     "metadata": {},
     "output_type": "display_data"
    },
    {
     "name": "stdout",
     "output_type": "stream",
     "text": [
      "\n",
      "Observation:\n",
      "\n",
      "         The bar plot indicates more passengers on the Titanic were male.\n",
      "      \n",
      "The number of male and female passengers on the Titanic were:\n",
      "\n"
     ]
    },
    {
     "data": {
      "text/html": [
       "<div>\n",
       "<style scoped>\n",
       "    .dataframe tbody tr th:only-of-type {\n",
       "        vertical-align: middle;\n",
       "    }\n",
       "\n",
       "    .dataframe tbody tr th {\n",
       "        vertical-align: top;\n",
       "    }\n",
       "\n",
       "    .dataframe thead th {\n",
       "        text-align: right;\n",
       "    }\n",
       "</style>\n",
       "<table border=\"1\" class=\"dataframe\">\n",
       "  <thead>\n",
       "    <tr style=\"text-align: right;\">\n",
       "      <th></th>\n",
       "      <th>Sex</th>\n",
       "      <th>PassengerId</th>\n",
       "    </tr>\n",
       "  </thead>\n",
       "  <tbody>\n",
       "    <tr>\n",
       "      <th>0</th>\n",
       "      <td>female</td>\n",
       "      <td>314</td>\n",
       "    </tr>\n",
       "    <tr>\n",
       "      <th>1</th>\n",
       "      <td>male</td>\n",
       "      <td>577</td>\n",
       "    </tr>\n",
       "  </tbody>\n",
       "</table>\n",
       "</div>"
      ],
      "text/plain": [
       "      Sex  PassengerId\n",
       "0  female          314\n",
       "1    male          577"
      ]
     },
     "execution_count": 7,
     "metadata": {},
     "output_type": "execute_result"
    }
   ],
   "source": [
    "# Group the data by gender and count the number of passengers in each group\n",
    "gender = df_titanic.groupby(\"Sex\")[\"PassengerId\"].count().reset_index()\n",
    "\n",
    "# Set the style of the plot to a dark background\n",
    "plt.style.use(\"dark_background\")\n",
    "\n",
    "# Define the dimensions of the plot\n",
    "plt.figure(figsize=(10, 6))\n",
    "\n",
    "# Create a countplot to compare the number of male passengers to female passengers\n",
    "ax = sns.countplot(data=df_titanic, x=\"Sex\", color=\"c\")\n",
    "\n",
    "# Set labels for the x-axis and y-axis\n",
    "plt.xlabel(\"Sex\")\n",
    "plt.ylabel(\"Number of Passengers\")\n",
    "\n",
    "# Set the title of the plot\n",
    "plt.title(\"Male Passengers versus Female Passengers\")\n",
    "\n",
    "# Add annotations for each bar\n",
    "for p in ax.patches:\n",
    "    ax.annotate(f\"{p.get_height():.0f}\", \n",
    "                (p.get_x() + p.get_width() / 2., p.get_height()),\n",
    "                ha=\"center\", va=\"center\",\n",
    "                xytext=(0, 5),\n",
    "                textcoords=\"offset points\")\n",
    "\n",
    "# Print a message indicating the purpose of the plot\n",
    "print()\n",
    "print(\"**********  A BARPLOT TO COMPARE THE NUMBER OF MALE PASSENGERS TO FEMALE PASSENGERS  **********\")\n",
    "print()\n",
    "\n",
    "# Display the plot\n",
    "plt.show()\n",
    "\n",
    "# Print a message indicating the observation made from analyzing the bar plot\n",
    "print()\n",
    "print(\"Observation:\")\n",
    "print(\"\"\"\n",
    "         The bar plot indicates more passengers on the Titanic were male.\n",
    "      \"\"\")\n",
    "print(\"The number of male and female passengers on the Titanic were:\")\n",
    "print()\n",
    "gender"
   ]
  },
  {
   "cell_type": "markdown",
   "metadata": {},
   "source": [
    "##### Task 6: Groupby Sex to Find Survival Rate of Male and Female"
   ]
  },
  {
   "cell_type": "code",
   "execution_count": 8,
   "metadata": {},
   "outputs": [
    {
     "name": "stdout",
     "output_type": "stream",
     "text": [
      "\n",
      "The survival rate of each sex on the Titanic is:\n",
      "\n"
     ]
    },
    {
     "data": {
      "text/html": [
       "<div>\n",
       "<style scoped>\n",
       "    .dataframe tbody tr th:only-of-type {\n",
       "        vertical-align: middle;\n",
       "    }\n",
       "\n",
       "    .dataframe tbody tr th {\n",
       "        vertical-align: top;\n",
       "    }\n",
       "\n",
       "    .dataframe thead tr th {\n",
       "        text-align: left;\n",
       "    }\n",
       "</style>\n",
       "<table border=\"1\" class=\"dataframe\">\n",
       "  <thead>\n",
       "    <tr>\n",
       "      <th></th>\n",
       "      <th>Sex</th>\n",
       "      <th colspan=\"2\" halign=\"left\">Survived</th>\n",
       "      <th>Survival_rate/gender</th>\n",
       "      <th>Survival_rate_overall</th>\n",
       "    </tr>\n",
       "    <tr>\n",
       "      <th></th>\n",
       "      <th></th>\n",
       "      <th>sum</th>\n",
       "      <th>count</th>\n",
       "      <th></th>\n",
       "      <th></th>\n",
       "    </tr>\n",
       "  </thead>\n",
       "  <tbody>\n",
       "    <tr>\n",
       "      <th>0</th>\n",
       "      <td>female</td>\n",
       "      <td>233</td>\n",
       "      <td>314</td>\n",
       "      <td>74.20%</td>\n",
       "      <td>26.15%</td>\n",
       "    </tr>\n",
       "    <tr>\n",
       "      <th>1</th>\n",
       "      <td>male</td>\n",
       "      <td>109</td>\n",
       "      <td>577</td>\n",
       "      <td>18.89%</td>\n",
       "      <td>12.23%</td>\n",
       "    </tr>\n",
       "  </tbody>\n",
       "</table>\n",
       "</div>"
      ],
      "text/plain": [
       "      Sex Survived       Survival_rate/gender Survival_rate_overall\n",
       "               sum count                                           \n",
       "0  female      233   314               74.20%                26.15%\n",
       "1    male      109   577               18.89%                12.23%"
      ]
     },
     "execution_count": 8,
     "metadata": {},
     "output_type": "execute_result"
    }
   ],
   "source": [
    "# Group by 'Sex' and calculate the total number of passengers and the number of survivors\n",
    "survival_rate_sex = df_titanic.groupby(\"Sex\").agg({\"Survived\": [\"sum\", \"count\"]})\n",
    "\n",
    "# Calculate survival rate by dividing the number of survivors by the total number of passengers for each sex\n",
    "survival_rate_sex[\"Survival_rate/gender\"] = survival_rate_sex[(\"Survived\", \"sum\")] / survival_rate_sex[(\"Survived\", \"count\")] * 100\n",
    "\n",
    "# Calculate total number of passengers\n",
    "total_passengers = gender[\"PassengerId\"].sum()\n",
    "\n",
    "# Calculate survival rate overall by dividing the total number of survivors by the total number of passengers\n",
    "survival_rate_sex[\"Survival_rate_overall\"] = survival_rate_sex[(\"Survived\", \"sum\")] / total_passengers * 100\n",
    "\n",
    "# Reset index for better presentation\n",
    "survival_rate_sex.reset_index(inplace=True)\n",
    "\n",
    "# Make a copy of the survival rate DataFrame for formatting\n",
    "survival_rate_sex_formatted = survival_rate_sex.copy()\n",
    "\n",
    "# Format the survival rate to display as a percentage with two decimal places\n",
    "survival_rate_sex_formatted[\"Survival_rate/gender\"] = survival_rate_sex_formatted[\"Survival_rate/gender\"].apply(lambda x: \"{:.2f}%\".format(x))\n",
    "survival_rate_sex_formatted[\"Survival_rate_overall\"] = survival_rate_sex_formatted[\"Survival_rate_overall\"].apply(lambda x: \"{:.2f}%\".format(x))\n",
    "\n",
    "# Print the survival rate of each sex on the Titanic\n",
    "print()\n",
    "print(\"The survival rate of each sex on the Titanic is:\")\n",
    "print()\n",
    "survival_rate_sex_formatted"
   ]
  },
  {
   "cell_type": "markdown",
   "metadata": {},
   "source": [
    "##### Task 7: Plot Perished vs. Survived Bar for Male and Female\n",
    "We will use seaborn countplot() again, but set argument `hue` to 'Survived'."
   ]
  },
  {
   "cell_type": "code",
   "execution_count": 9,
   "metadata": {
    "scrolled": true
   },
   "outputs": [
    {
     "name": "stdout",
     "output_type": "stream",
     "text": [
      "\n",
      "**********  A BARPLOT TO SHOW THE SURVIVAL STATUS OF PASSENGERS BASED ON GENDER  **********\n",
      "\n"
     ]
    },
    {
     "data": {
      "image/png": "[encoded data removed]",
      "text/plain": [
       "<Figure size 1000x600 with 1 Axes>"
      ]
     },
     "metadata": {},
     "output_type": "display_data"
    },
    {
     "name": "stdout",
     "output_type": "stream",
     "text": [
      "\n",
      "Observation:\n",
      "\n",
      "         The bar plot indicates the majority of women survived while the vast majority of men perished.\n",
      "      \n"
     ]
    }
   ],
   "source": [
    "# Define the custom palette\n",
    "custom_palette = [\"cyan\", \"magenta\"]\n",
    "\n",
    "# Define the dimensions of the plot\n",
    "plt.figure(figsize=(10, 6))\n",
    "\n",
    "# Create a countplot with hue and custom palette\n",
    "ax = sns.countplot(data=df_titanic, x=\"Sex\", hue=\"Survived_label\", palette=custom_palette, saturation=0.5)\n",
    "\n",
    "# Set labels for the x-axis and y-axis\n",
    "plt.xlabel(\"Sex\")\n",
    "plt.ylabel(\"Number of Passengers\")\n",
    "\n",
    "# Set the title of the plot\n",
    "plt.title(\"Survival Status of Passengers by Gender\")\n",
    "\n",
    "# Add annotations for each bar\n",
    "for p in ax.patches:\n",
    "    ax.annotate(f\"{p.get_height():.0f}\", \n",
    "                (p.get_x() + p.get_width() / 2., p.get_height()),\n",
    "                ha=\"center\", va=\"center\",\n",
    "                xytext=(0, 5),\n",
    "                textcoords=\"offset points\")\n",
    "\n",
    "# Print a message indicating the purpose of the plot\n",
    "print()\n",
    "print(\"**********  A BARPLOT TO SHOW THE SURVIVAL STATUS OF PASSENGERS BASED ON GENDER  **********\")\n",
    "print()\n",
    "\n",
    "# Display the plot\n",
    "plt.show()\n",
    "\n",
    "# Print a message indicating the observation made from analyzing the bar plot\n",
    "print()\n",
    "print(\"Observation:\")\n",
    "print(\"\"\"\n",
    "         The bar plot indicates the majority of women survived while the vast majority of men perished.\n",
    "      \"\"\")"
   ]
  },
  {
   "cell_type": "markdown",
   "metadata": {},
   "source": [
    "The number of men on the ship is lot more than the number of women. Still the number of survived women is almost twice the number of survived males. Majority women survived while vast majority of men perished."
   ]
  },
  {
   "cell_type": "markdown",
   "metadata": {},
   "source": [
    "#### Pclass and Survival\n",
    "##### Task 8: List survival rate of each Pclass "
   ]
  },
  {
   "cell_type": "code",
   "execution_count": 10,
   "metadata": {},
   "outputs": [
    {
     "name": "stdout",
     "output_type": "stream",
     "text": [
      "\n",
      "The survival rate of each ticket class on the Titanic is:\n",
      "\n"
     ]
    },
    {
     "data": {
      "text/html": [
       "<div>\n",
       "<style scoped>\n",
       "    .dataframe tbody tr th:only-of-type {\n",
       "        vertical-align: middle;\n",
       "    }\n",
       "\n",
       "    .dataframe tbody tr th {\n",
       "        vertical-align: top;\n",
       "    }\n",
       "\n",
       "    .dataframe thead tr th {\n",
       "        text-align: left;\n",
       "    }\n",
       "</style>\n",
       "<table border=\"1\" class=\"dataframe\">\n",
       "  <thead>\n",
       "    <tr>\n",
       "      <th></th>\n",
       "      <th>Pclass_label</th>\n",
       "      <th colspan=\"2\" halign=\"left\">Survived</th>\n",
       "      <th>Survival_rate/pclass</th>\n",
       "      <th>Survival_rate_overall</th>\n",
       "    </tr>\n",
       "    <tr>\n",
       "      <th></th>\n",
       "      <th></th>\n",
       "      <th>sum</th>\n",
       "      <th>count</th>\n",
       "      <th></th>\n",
       "      <th></th>\n",
       "    </tr>\n",
       "  </thead>\n",
       "  <tbody>\n",
       "    <tr>\n",
       "      <th>0</th>\n",
       "      <td>Lower</td>\n",
       "      <td>119</td>\n",
       "      <td>491</td>\n",
       "      <td>24.24%</td>\n",
       "      <td>13.36%</td>\n",
       "    </tr>\n",
       "    <tr>\n",
       "      <th>1</th>\n",
       "      <td>Middle</td>\n",
       "      <td>87</td>\n",
       "      <td>184</td>\n",
       "      <td>47.28%</td>\n",
       "      <td>9.76%</td>\n",
       "    </tr>\n",
       "    <tr>\n",
       "      <th>2</th>\n",
       "      <td>Upper</td>\n",
       "      <td>136</td>\n",
       "      <td>216</td>\n",
       "      <td>62.96%</td>\n",
       "      <td>15.26%</td>\n",
       "    </tr>\n",
       "  </tbody>\n",
       "</table>\n",
       "</div>"
      ],
      "text/plain": [
       "  Pclass_label Survived       Survival_rate/pclass Survival_rate_overall\n",
       "                    sum count                                           \n",
       "0        Lower      119   491               24.24%                13.36%\n",
       "1       Middle       87   184               47.28%                 9.76%\n",
       "2        Upper      136   216               62.96%                15.26%"
      ]
     },
     "execution_count": 10,
     "metadata": {},
     "output_type": "execute_result"
    }
   ],
   "source": [
    "# Dictionary mapping ticket class code to labels\n",
    "pcl_inact_map = {1: \"Upper\", 2: \"Middle\", 3: \"Lower\"}\n",
    "\n",
    "# Initialize a new column for ticket class label with NaN values\n",
    "df_titanic[\"Pclass_label\"] = np.nan\n",
    "\n",
    "# Fill NaN values in the \"Pclass_label\" column based on the \"Pclass\" column using the mapping dictionary\n",
    "df_titanic[\"Pclass_label\"] = df_titanic[\"Pclass_label\"].fillna(df_titanic[\"Pclass\"].map(pcl_inact_map))\n",
    "\n",
    "# Group by 'Pclass_label' and calculate the total number of passengers and the number of survivors\n",
    "survival_rate_pclass = df_titanic.groupby(\"Pclass_label\").agg({\"Survived\": [\"sum\", \"count\"]})\n",
    "\n",
    "# Calculate survival rate by dividing the number of survivors by the total number of passengers for each ticket class\n",
    "survival_rate_pclass[\"Survival_rate/pclass\"] = survival_rate_pclass[(\"Survived\", \"sum\")] / survival_rate_pclass[(\"Survived\", \"count\")] * 100\n",
    "\n",
    "# Calculate overall survival rate for each ticket class\n",
    "survival_rate_pclass[\"Survival_rate_overall\"] = survival_rate_pclass[(\"Survived\", \"sum\")] / total_passengers * 100\n",
    "\n",
    "# Reset index for better presentation\n",
    "survival_rate_pclass.reset_index(inplace=True)\n",
    "\n",
    "# Make a copy of the survival rate Data Frame for formatting\n",
    "survival_rate_pclass_formatted = survival_rate_pclass.copy()\n",
    "\n",
    "# Format the survival rate to display as a percentage with two decimal places\n",
    "survival_rate_pclass_formatted[\"Survival_rate/pclass\"] = survival_rate_pclass_formatted[\"Survival_rate/pclass\"].apply(lambda x: \"{:.2f}%\".format(x))\n",
    "survival_rate_pclass_formatted[\"Survival_rate_overall\"] = survival_rate_pclass_formatted[\"Survival_rate_overall\"].apply(lambda x: \"{:.2f}%\".format(x))\n",
    "\n",
    "# Print the survival rate of each ticket class on the Titanic\n",
    "print()\n",
    "print(\"The survival rate of each ticket class on the Titanic is:\")\n",
    "print()\n",
    "survival_rate_pclass_formatted"
   ]
  },
  {
   "cell_type": "markdown",
   "metadata": {},
   "source": [
    "##### Task 9: Plot Perished vs. Survived for each Pclass"
   ]
  },
  {
   "cell_type": "code",
   "execution_count": 12,
   "metadata": {
    "scrolled": true
   },
   "outputs": [
    {
     "name": "stdout",
     "output_type": "stream",
     "text": [
      "\n",
      "**********  A BARPLOT TO SHOW THE SURVIVAL STATUS OF PASSENGERS BASED ON TICKET CLASS  **********\n",
      "\n"
     ]
    },
    {
     "data": {
      "image/png": "[encoded data removed]",
      "text/plain": [
       "<Figure size 1000x600 with 1 Axes>"
      ]
     },
     "metadata": {},
     "output_type": "display_data"
    },
    {
     "name": "stdout",
     "output_type": "stream",
     "text": [
      "\n",
      "Observation:\n",
      "\n",
      "         Passengers in the upper class had the highest survival rate both per class\n",
      "         \n",
      "         and contributed significantly to the overall survival rate. Conversely,\n",
      "         \n",
      "         passengers in the lower class had the lowest survival rate per class\n",
      "         \n",
      "         and also made a substantial contribution to the overall survival rate.\n",
      "\n",
      "         The Middle class contributed the least to the overall survival rate.\n",
      "      \n"
     ]
    }
   ],
   "source": [
    "# Define the custom palette\n",
    "custom_palette = [\"cyan\", \"magenta\"]\n",
    "\n",
    "# Define the dimensions of the plot\n",
    "plt.figure(figsize=(10, 6))\n",
    "\n",
    "# Create a countplot with hue and custom palette\n",
    "ax = sns.countplot(data=df_titanic, x=\"Pclass_label\", hue='Survived_label', palette=custom_palette, saturation=0.5)\n",
    "\n",
    "# Set labels for the x-axis and y-axis\n",
    "plt.xlabel(\"Pclass\")\n",
    "plt.ylabel(\"Number of Passengers\")\n",
    "\n",
    "# Set the title of the plot\n",
    "plt.title(\"Survival Status of Passengers by ticket class\")\n",
    "\n",
    "# Add annotations for each bar\n",
    "for p in ax.patches:\n",
    "    ax.annotate(f\"{p.get_height():.0f}\", \n",
    "                (p.get_x() + p.get_width() / 2., p.get_height()),\n",
    "                ha=\"center\", va=\"center\",\n",
    "                xytext=(0, 5),\n",
    "                textcoords=\"offset points\")\n",
    "\n",
    "# Print a message indicating the purpose of the plot\n",
    "print()\n",
    "print(\"**********  A BARPLOT TO SHOW THE SURVIVAL STATUS OF PASSENGERS BASED ON TICKET CLASS  **********\")\n",
    "print()\n",
    "\n",
    "# Display the plot\n",
    "plt.show()\n",
    "\n",
    "# Print a message indicating the observation made from analyzing the histogram\n",
    "print()\n",
    "print(\"Observation:\")\n",
    "print(\"\"\"\n",
    "         Passengers in the upper class had the highest survival rate both per class\n",
    "         \n",
    "         and contributed significantly to the overall survival rate. Conversely,\n",
    "         \n",
    "         passengers in the lower class had the lowest survival rate per class\n",
    "         \n",
    "         and also made a substantial contribution to the overall survival rate.\n",
    "\n",
    "         The Middle class contributed the least to the overall survival rate.\n",
    "      \"\"\")"
   ]
  },
  {
   "cell_type": "markdown",
   "metadata": {},
   "source": [
    "### Continuous Features\n"
   ]
  },
  {
   "cell_type": "markdown",
   "metadata": {},
   "source": [
    "#### Univariate Distribution Plot\n",
    "There are multiple ways to do histogram. I will demonstrate 3 ways.\n",
    "- ax.hist(): can not handle NnN value\n",
    "- seaborn.distplot(): can not handle NaN. Has KDE(kernel density estimation) by default.\n",
    "- pd.Sereis.hist(): simplest and can handle NaN by default"
   ]
  },
  {
   "cell_type": "markdown",
   "metadata": {},
   "source": [
    "##### Task 10: Plot histogram for Age\n",
    "Use pandas Series hist() function which handles missing value."
   ]
  },
  {
   "cell_type": "code",
   "execution_count": 15,
   "metadata": {},
   "outputs": [
    {
     "name": "stdout",
     "output_type": "stream",
     "text": [
      "\n",
      "**********  A HISTOGRAM TO SHOW THE DISTRIBUTION OF PASSENGER AGES  **********\n",
      "\n"
     ]
    },
    {
     "data": {
      "image/png": "[encoded data removed]",
      "text/plain": [
       "<Figure size 1000x600 with 1 Axes>"
      ]
     },
     "metadata": {},
     "output_type": "display_data"
    },
    {
     "name": "stdout",
     "output_type": "stream",
     "text": [
      "\n",
      "Summary statistics for the 'Age' column:\n",
      "\n",
      "mean                   29.699118\n",
      "std                    14.526497\n",
      "min                     0.420000\n",
      "max                    80.000000\n",
      "median                 28.000000\n",
      "mode                   24.000000\n",
      "25th percentile        20.125000\n",
      "75th percentile        38.000000\n",
      "Interquartile Range    17.875000\n",
      "kurtosis                0.178274\n",
      "skewness                0.389108\n",
      "Name: Age, dtype: float64\n",
      "\n",
      "Observation:\n",
      "\n",
      "         The histogram shows a relatively symmetrical distribution of passenger ages, \n",
      "         \n",
      "         with relatively more younger passengers compared to older passengers.\n",
      "      \n"
     ]
    }
   ],
   "source": [
    "# Extracting the \"Age\" column from the DataFrame\n",
    "data = df_titanic[\"Age\"]\n",
    "\n",
    "# Calculate summary statistics for the \"Age\" column\n",
    "summary_stats = data.agg([\"mean\", \"std\", \"min\", \"max\", \"median\"])\n",
    "\n",
    "# Calculate the mode of the \"Age\" column\n",
    "mode_value = data.mode().iloc[0]\n",
    "\n",
    "# Append the mode value to the summary statistics DataFrame\n",
    "summary_stats.loc[\"mode\"] = mode_value\n",
    "\n",
    "# Calculate quartiles\n",
    "quartiles = data.quantile([0.25, 0.75])\n",
    "\n",
    "# Append quartiles to the summary statistics DataFrame\n",
    "summary_stats.loc[\"25th percentile\"] = quartiles.loc[0.25]\n",
    "summary_stats.loc[\"75th percentile\"] = quartiles.loc[0.75]\n",
    "\n",
    "# Calculate the interquartile range (IQR)\n",
    "IQR = quartiles.loc[0.75] - quartiles.loc[0.25]\n",
    "\n",
    "# Append the interquartile range to the summary statistics DataFrame\n",
    "summary_stats.loc[\"Interquartile Range\"] = IQR\n",
    "\n",
    "# Calculate the kurtosis for the \"Age\" column\n",
    "data_kurtosis = data.kurtosis()\n",
    "\n",
    "# Append the kurtosis value to the summary statistics DataFrame\n",
    "summary_stats.loc[\"kurtosis\"] = data_kurtosis\n",
    "\n",
    "# Calculate the skewness for the \"Age\" column\n",
    "data_skewness = data.skew()\n",
    "\n",
    "# Append the skewness value to the summary statistics DataFrame\n",
    "summary_stats.loc[\"skewness\"] = data_skewness\n",
    "\n",
    "# Plotting the histogram\n",
    "data.hist(color=\"cyan\", alpha=0.75, figsize=(10, 6), grid=False)\n",
    "\n",
    "# Adding labels and title\n",
    "plt.xlabel(\"Age\")\n",
    "plt.ylabel(\"Frequency\")\n",
    "plt.title(\"Histogram of Age Distribution\")\n",
    "\n",
    "# Print a message indicating the purpose of the plot\n",
    "print()\n",
    "print(\"**********  A HISTOGRAM TO SHOW THE DISTRIBUTION OF PASSENGER AGES  **********\")\n",
    "print()\n",
    "\n",
    "# Display the plot\n",
    "plt.show()\n",
    "\n",
    "# Print summary statistics for the \"Age\" column\n",
    "print()\n",
    "print(\"Summary statistics for the 'Age' column:\")\n",
    "print()\n",
    "print(summary_stats)\n",
    "\n",
    "# Print a message indicating the observation made from analyzing the histogram\n",
    "print()\n",
    "print(\"Observation:\")\n",
    "print(\"\"\"\n",
    "         The histogram shows a relatively symmetrical distribution of passenger ages, \n",
    "         \n",
    "         with relatively more younger passengers compared to older passengers.\n",
    "      \"\"\")"
   ]
  },
  {
   "cell_type": "markdown",
   "metadata": {},
   "source": [
    "##### Task 11: Stack age histogram of survived on top of overall age histogram\n",
    "Plot histogram for Age, then filter out survived passenger and plot histogram for Age on same axis. Set different color and label."
   ]
  },
  {
   "cell_type": "code",
   "execution_count": 18,
   "metadata": {},
   "outputs": [
    {
     "name": "stdout",
     "output_type": "stream",
     "text": [
      "\n",
      "**********  A HISTOGRAM TO SHOW THE DISTRIBUTION OF PASSENGER AGES  **********\n",
      "\n"
     ]
    },
    {
     "data": {
      "image/png": "[encoded data removed]",
      "text/plain": [
       "<Figure size 1000x600 with 1 Axes>"
      ]
     },
     "metadata": {},
     "output_type": "display_data"
    },
    {
     "name": "stdout",
     "output_type": "stream",
     "text": [
      "\n",
      "Summary statistics for the survived passengers:\n",
      "\n",
      "mean                   28.343690\n",
      "std                    14.950952\n",
      "min                     0.420000\n",
      "max                    80.000000\n",
      "median                 28.000000\n",
      "mode                   24.000000\n",
      "25th percentile        19.000000\n",
      "75th percentile        36.000000\n",
      "Interquartile Range    17.000000\n",
      "kurtosis               -0.057602\n",
      "skewness                0.180458\n",
      "Name: Age, dtype: float64\n",
      "\n",
      "Observation:\n",
      "\n",
      "         Both histograms show a relatively symmetrical distribution of passenger ages,\n",
      "         \n",
      "         with relatively more younger passengers compared to older passengers. This \n",
      "\n",
      "         sugests more younger passengers seem to have survived compared to older ones.\n",
      "\n",
      "         The presence of one extreme outlier towards the right in the distribution of \n",
      "         \n",
      "         ages among survivors suggests that there was at least one survivor who was \n",
      "         \n",
      "         significantly older than the rest of the passengers. \n",
      "      \n"
     ]
    }
   ],
   "source": [
    "# Filter \"Age\" data for survived passengers\n",
    "survived_age = df_titanic[df_titanic[\"Survived_label\"] == \"Survived\"][\"Age\"]\n",
    "\n",
    "# Calculate summary statistics for the survived passengers\n",
    "summary_stats = survived_age.agg([\"mean\", \"std\", \"min\", \"max\", \"median\"])\n",
    "\n",
    "# Calculate the mode for the survived passengers\n",
    "mode_value = survived_age.mode().iloc[0]\n",
    "\n",
    "# Append the mode value to the summary statistics DataFrame\n",
    "summary_stats.loc[\"mode\"] = mode_value\n",
    "\n",
    "# Calculate quartiles\n",
    "quartiles = survived_age.quantile([0.25, 0.75])\n",
    "\n",
    "# Append quartiles to the summary statistics DataFrame\n",
    "summary_stats.loc[\"25th percentile\"] = quartiles.loc[0.25]\n",
    "summary_stats.loc[\"75th percentile\"] = quartiles.loc[0.75]\n",
    "\n",
    "# Calculate the interquartile range (IQR)\n",
    "IQR = quartiles.loc[0.75] - quartiles.loc[0.25]\n",
    "\n",
    "# Append the interquartile range to the summary statistics DataFrame\n",
    "summary_stats.loc[\"Interquartile Range\"] = IQR\n",
    "\n",
    "# Calculate the kurtosis for the survived passengers\n",
    "survived_kurtosis = survived_age.kurtosis()\n",
    "\n",
    "# Append the kurtosis value to the summary statistics DataFrame\n",
    "summary_stats.loc[\"kurtosis\"] = survived_kurtosis\n",
    "\n",
    "# Calculate the skewness for the survived passengers\n",
    "survived_skewness = survived_age.skew()\n",
    "\n",
    "# Append the skewness value to the summary statistics DataFrame\n",
    "summary_stats.loc[\"skewness\"] = survived_skewness\n",
    "\n",
    "# Plot histogram for all passengers\n",
    "data.hist(bins=10, color=\"cyan\", alpha=0.75, label=\"All Passengers\", figsize=(10, 6), grid=False)\n",
    "\n",
    "# Plot histogram for survived passengers\n",
    "survived_age.hist(bins=10, color=\"magenta\", alpha=0.75, label=\"Survived Passengers\", figsize=(10, 6), grid=False)\n",
    "\n",
    "# Add labels and title\n",
    "plt.xlabel(\"Age\")\n",
    "plt.ylabel(\"Frequency\")\n",
    "plt.title(\"Histogram of Age Distribution for All Passengers and Survived Passengers\")\n",
    "\n",
    "# Add legend\n",
    "plt.legend()\n",
    "\n",
    "# Print a message indicating the purpose of the plot\n",
    "print()\n",
    "print(\"**********  A HISTOGRAM TO SHOW THE DISTRIBUTION OF PASSENGER AGES  **********\")\n",
    "print()\n",
    "\n",
    "# Show the plot\n",
    "plt.show()\n",
    "\n",
    "# Print summary statistics for the survived passengers\n",
    "print()\n",
    "print(\"Summary statistics for the survived passengers:\")\n",
    "print()\n",
    "print(summary_stats)\n",
    "\n",
    "# Print a message indicating the observation made from analyzing the histogram\n",
    "print()\n",
    "print(\"Observation:\")\n",
    "print('''\n",
    "         Both histograms show a relatively symmetrical distribution of passenger ages,\n",
    "         \n",
    "         with relatively more younger passengers compared to older passengers. This \n",
    "\n",
    "         sugests more younger passengers seem to have survived compared to older ones.\n",
    "\n",
    "         The presence of one extreme outlier towards the right in the distribution of \n",
    "         \n",
    "         ages among survivors suggests that there was at least one survivor who was \n",
    "         \n",
    "         significantly older than the rest of the passengers. \n",
    "      ''')"
   ]
  },
  {
   "cell_type": "markdown",
   "metadata": {},
   "source": [
    "Children have higher survival rate."
   ]
  },
  {
   "cell_type": "markdown",
   "metadata": {},
   "source": [
    "[Back to Top](#Table-of-Contents)\n"
   ]
  }
 ],
 "metadata": {
  "kernelspec": {
   "display_name": "Python 3 (ipykernel)",
   "language": "python",
   "name": "python3"
  },
  "language_info": {
   "codemirror_mode": {
    "name": "ipython",
    "version": 3
   },
   "file_extension": ".py",
   "mimetype": "text/x-python",
   "name": "python",
   "nbconvert_exporter": "python",
   "pygments_lexer": "ipython3",
   "version": "3.10.6"
  }
 },
 "nbformat": 4,
 "nbformat_minor": 4
}
