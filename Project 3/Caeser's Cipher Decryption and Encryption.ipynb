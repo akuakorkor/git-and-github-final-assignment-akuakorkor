{
 "cells": [
  {
   "cell_type": "markdown",
   "id": "209f6907-27bf-41cb-9f3e-c067dcb800c2",
   "metadata": {},
   "source": [
    "INDIVIDUAL ASSIGNMENT"
   ]
  },
  {
   "cell_type": "markdown",
   "id": "57f81e98-22f5-47e5-8593-d9d86c7b96ed",
   "metadata": {},
   "source": [
    "The programme uses a ceasar or shift cipher, a type of substitution cipher, to decrypt messages. \n",
    "It prompts the user to enter a key and the text to be decrypted. Finally, it prints the result."
   ]
  },
  {
   "cell_type": "markdown",
   "id": "ca707003-6258-4ef3-be20-e70819cde1ee",
   "metadata": {},
   "source": [
    "Ciphertext = QEB NRFZH YOLTK CLU GRJMP LSBO QEB IXWV ALD\n",
    "Plaintext = THE QUICK BROWN FOX JUMPS OVER THE LAZY DOG"
   ]
  },
  {
   "cell_type": "markdown",
   "id": "8e579071-8a86-44cb-9e4e-38c62b432e52",
   "metadata": {},
   "source": [
    "Left Shift Cipher\n",
    "\n",
    "Use Key = 3"
   ]
  },
  {
   "cell_type": "code",
   "execution_count": 7,
   "id": "07e1595f-5ac6-4f86-a934-050551abfb8e",
   "metadata": {},
   "outputs": [
    {
     "name": "stdout",
     "output_type": "stream",
     "text": [
      "\n",
      "***CEASAR CIPHER DECRYPTION***\n",
      "\n"
     ]
    },
    {
     "name": "stdin",
     "output_type": "stream",
     "text": [
      "Please enter a key between 1 and 25: 3\n"
     ]
    },
    {
     "name": "stdout",
     "output_type": "stream",
     "text": [
      "\n"
     ]
    },
    {
     "name": "stdin",
     "output_type": "stream",
     "text": [
      "Please enter the text to be decrypted: QEB NRFZH YOLTK CLU GRJMP LSBO QEB IXWV ALD\n"
     ]
    },
    {
     "name": "stdout",
     "output_type": "stream",
     "text": [
      "\n",
      "PLAINTEXT: THE QUICK BROWN FOX JUMPS OVER THE LAZY DOG\n"
     ]
    }
   ],
   "source": [
    "# Define the alphabet as a string\n",
    "letters = \"ABCDEFGHIJKLMNOPQRSTUVWXYZ\"\n",
    "\n",
    "# Get the number of letters in the alphabet\n",
    "num_letters = len(letters)\n",
    "\n",
    "# Function to decrypt a given text using a Caesar cipher\n",
    "def decrypt (text, key):\n",
    "    \n",
    "    # Initialize an empty string to store the result\n",
    "    changed_text = \"\"\n",
    "    \n",
    "    # Iterate through each letter in the text\n",
    "    for letter in text:\n",
    "        # Convert the letter to uppercase\n",
    "        letter = letter.upper()\n",
    "        \n",
    "        # If the letter is a space, add it to the result unchanged\n",
    "        if letter == \" \":\n",
    "            changed_text += letter\n",
    "        \n",
    "        # If the letter is not a space, perform decryption\n",
    "        if not letter == \" \":\n",
    "            # Find the index of the letter in the alphabet\n",
    "            index = letters.find(letter)\n",
    "            \n",
    "            # If the letter is not found in the alphabet, add it to the result unchanged\n",
    "            if index == -1:\n",
    "                changed_text += letter\n",
    "            \n",
    "            # If the letter is found in the alphabet, perform decryption\n",
    "            else:\n",
    "                # Calculate the new index after applying the key\n",
    "                new_index = index + key\n",
    "                \n",
    "                # Adjust the new index if it goes beyond the bounds of the alphabet\n",
    "                if new_index < 0:\n",
    "                    new_index += num_letters\n",
    "                elif new_index >= num_letters:\n",
    "                    new_index -= num_letters\n",
    "                \n",
    "                # Add the corresponding letter from the alphabet to the result\n",
    "                changed_text += letters[new_index]\n",
    "    \n",
    "    # Return the decrypted text\n",
    "    return changed_text\n",
    "# Print program title\n",
    "print()\n",
    "print(\"***CEASAR CIPHER DECRYPTION***\")\n",
    "print()\n",
    "\n",
    "# Prompt the user to enter a key\n",
    "key = int(input(\"Please enter a key between 1 and 25:\"))\n",
    "print()\n",
    "# Prompt the user to enter the text to be decrypted\n",
    "text = input(\"Please enter the text to be decrypted:\")\n",
    "print()\n",
    "# Encrypt the text using the specified key\n",
    "plaintext = decrypt(text, key)\n",
    "# Print the encrypted text\n",
    "print(f\"PLAINTEXT: {plaintext}\")\n"
   ]
  },
  {
   "cell_type": "code",
   "execution_count": null,
   "id": "ac7a12c2-121f-4a64-ba1e-58ba418ead6b",
   "metadata": {},
   "outputs": [],
   "source": []
  }
 ],
 "metadata": {
  "kernelspec": {
   "display_name": "Python 3 (ipykernel)",
   "language": "python",
   "name": "python3"
  },
  "language_info": {
   "codemirror_mode": {
    "name": "ipython",
    "version": 3
   },
   "file_extension": ".py",
   "mimetype": "text/x-python",
   "name": "python",
   "nbconvert_exporter": "python",
   "pygments_lexer": "ipython3",
   "version": "3.10.11"
  }
 },
 "nbformat": 4,
 "nbformat_minor": 5
}
