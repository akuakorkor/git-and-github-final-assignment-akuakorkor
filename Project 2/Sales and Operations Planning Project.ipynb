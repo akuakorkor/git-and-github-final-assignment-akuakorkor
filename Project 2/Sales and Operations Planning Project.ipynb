{
 "cells": [
  {
   "cell_type": "code",
   "execution_count": 1,
   "id": "af047c66-f7e2-4754-bd52-bf6b7c961407",
   "metadata": {},
   "outputs": [
    {
     "name": "stdin",
     "output_type": "stream",
     "text": [
      "Please enter an initial stock level:  500\n",
      "Please enter the number of months to plan:  5\n",
      "Please enter the planned sales quantity for month 1:  300\n",
      "Please enter the planned sales quantity for month 2:  250\n",
      "Please enter the planned sales quantity for month 3:  200\n",
      "Please enter the planned sales quantity for month 4:  400\n",
      "Please enter the planned sales quantity for month 5:  100\n"
     ]
    },
    {
     "name": "stdout",
     "output_type": "stream",
     "text": [
      "\n",
      "Production Plan:\n",
      "Month 1: 0\n",
      "Month 2: 50\n",
      "Month 3: 200\n",
      "Month 4: 400\n",
      "Month 5: 100\n"
     ]
    }
   ],
   "source": [
    "def calculate_production(initial_stock, num_months, planned_sales):\n",
    "    production = []\n",
    "    prev_stock = initial_stock\n",
    "\n",
    "    for month in range(num_months):\n",
    "        sales = planned_sales[month]\n",
    "        if sales <= prev_stock:\n",
    "            production.append(0)\n",
    "        else:\n",
    "            production.append(sales - prev_stock)\n",
    "        \n",
    "        prev_stock = prev_stock - sales + production[-1] # Update previous stock level\n",
    "    \n",
    "    return production\n",
    "\n",
    "def main():\n",
    "    initial_stock = int(input(\"Please enter an initial stock level: \"))\n",
    "    num_months = int(input(\"Please enter the number of months to plan: \"))\n",
    "    \n",
    "    planned_sales = []\n",
    "    for month in range(1, num_months + 1):\n",
    "        sales = int(input(f\"Please enter the planned sales quantity for month {month}: \"))\n",
    "        planned_sales.append(sales)\n",
    "    \n",
    "    production = calculate_production(initial_stock, num_months, planned_sales)\n",
    "    \n",
    "    print(\"\\nProduction Plan:\")\n",
    "    for month, quantity in enumerate(production, start=1):\n",
    "        print(f\"Month {month}: {quantity}\")\n",
    "\n",
    "if __name__ == \"__main__\":\n",
    "    main()\n"
   ]
  },
  {
   "cell_type": "code",
   "execution_count": null,
   "id": "4e0af04d-8f41-4a9e-93c6-838a1dd3112b",
   "metadata": {},
   "outputs": [],
   "source": []
  }
 ],
 "metadata": {
  "kernelspec": {
   "display_name": "Python 3 (ipykernel)",
   "language": "python",
   "name": "python3"
  },
  "language_info": {
   "codemirror_mode": {
    "name": "ipython",
    "version": 3
   },
   "file_extension": ".py",
   "mimetype": "text/x-python",
   "name": "python",
   "nbconvert_exporter": "python",
   "pygments_lexer": "ipython3",
   "version": "3.10.11"
  }
 },
 "nbformat": 4,
 "nbformat_minor": 5
}
